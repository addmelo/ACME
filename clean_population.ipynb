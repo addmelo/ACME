{
 "cells": [
  {
   "cell_type": "code",
   "execution_count": 2,
   "id": "59063203",
   "metadata": {},
   "outputs": [
    {
     "name": "stderr",
     "output_type": "stream",
     "text": [
      "/opt/anaconda3/lib/python3.9/site-packages/pandas/core/computation/expressions.py:21: UserWarning: Pandas requires version '2.8.4' or newer of 'numexpr' (version '2.8.3' currently installed).\n",
      "  from pandas.core.computation.check import NUMEXPR_INSTALLED\n",
      "/opt/anaconda3/lib/python3.9/site-packages/pandas/core/arrays/masked.py:60: UserWarning: Pandas requires version '1.3.6' or newer of 'bottleneck' (version '1.3.5' currently installed).\n",
      "  from pandas.core import (\n",
      "/var/folders/7p/c4gmwp116656n0kd4wjd0x0c0000gn/T/ipykernel_49877/3213813731.py:1: DeprecationWarning: \n",
      "Pyarrow will become a required dependency of pandas in the next major release of pandas (pandas 3.0),\n",
      "(to allow more performant data types, such as the Arrow string type, and better interoperability with other libraries)\n",
      "but was not found to be installed on your system.\n",
      "If this would cause problems for you,\n",
      "please provide us feedback at https://github.com/pandas-dev/pandas/issues/54466\n",
      "        \n",
      "  import pandas as pd\n"
     ]
    }
   ],
   "source": [
    "import pandas as pd\n",
    "import numpy as np\n",
    "from matplotlib import pyplot as plt"
   ]
  },
  {
   "cell_type": "code",
   "execution_count": 29,
   "id": "b0cde610",
   "metadata": {},
   "outputs": [],
   "source": [
    "#Read in the dataframe\n",
    "df = pd.read_csv('Population_Data.csv')\n",
    "\n",
    "#Make all Country Names uppercase for merging\n",
    "df['Name'] = df[\"Name\"].str.upper()\n",
    "df = df.rename(columns={\"Name\": \"Country\"})\n",
    "\n",
    "#Clean years, dropping missing, make the rest ints\n",
    "df = df.dropna()\n",
    "df[\"Year\"] = df[\"Year\"].astype(int)\n",
    "\n",
    "#Deal with missing values, eliminate commas in large numbers\n",
    "column_list = df.columns.tolist()\n",
    "for col in column_list[4:]:\n",
    "    df[col] = df[col].str.replace('--', '')\n",
    "    df[col] = df[col].str.replace(',', '')\n",
    "    \n",
    "#Cast everything to floats\n",
    "for col in column_list[4:]:\n",
    "    df[col] = pd.to_numeric(df[col], errors='coerce')\n"
   ]
  },
  {
   "cell_type": "code",
   "execution_count": null,
   "id": "ab5d8bac",
   "metadata": {},
   "outputs": [],
   "source": [
    "#Do some sampling to make sure everything is as it should be\n",
    "df.sample(10)"
   ]
  },
  {
   "cell_type": "code",
   "execution_count": 41,
   "id": "208faf5c",
   "metadata": {
    "scrolled": false
   },
   "outputs": [
    {
     "name": "stdout",
     "output_type": "stream",
     "text": [
      "Country                                       0\n",
      "Region                                        0\n",
      "GENC                                          0\n",
      "Year                                          0\n",
      "Area in Square Kilometers                     0\n",
      "Population                                    0\n",
      "Male Population                            8066\n",
      "Female Population                          8066\n",
      "Annual Growth Rate %                       8098\n",
      "Rate of Natural Increase                   8098\n",
      "Population Density (People per Sq. Km.)       0\n",
      "Dependency ratio                           8096\n",
      "Youth dependency ratio                     8096\n",
      "Old age dependency ratio                   8096\n",
      "Median age, both sexes                     8097\n",
      "Median age, females                        8097\n",
      "Median age, males                          8097\n",
      "Natural Increase                           8098\n",
      "Sex ratio of the population                8096\n",
      "Total Fertility Rate                       8109\n",
      "Age-specific Fertility Rate 15-19          8109\n",
      "Age-specific Fertility Rate 20-24          8109\n",
      "Age-specific Fertility Rate 25-29          8109\n",
      "Age-specific Fertility Rate 30-34          8109\n",
      "Age-specific Fertility Rate 35-39          8109\n",
      "Age-specific Fertility Rate 40-44          8109\n",
      "Age-specific Fertility Rate 45-49          8109\n",
      "Crude Birth Rate                           8098\n",
      "Gross Reproduction Rate                    8109\n",
      "Births, both sexes                         8098\n",
      "Sex Ratio at Birth                         8109\n",
      "Births to mothers aged 15-19               8110\n",
      "Births to mothers aged 20-24               8110\n",
      "Births to mothers aged 25-29               8110\n",
      "Births to mothers aged 30-34               8110\n",
      "Births to mothers aged 35-39               8110\n",
      "Births to mothers aged 40-44               8110\n",
      "Births to mothers aged 45-49               8110\n",
      "Life Expectancy at Birth, Both Sexes       8109\n",
      "Life Expectancy at Birth, Males            8109\n",
      "Life Expectancy at Birth, Females          8109\n",
      "Infant Mortality Rate, Both Sexes          8109\n",
      "Infant Mortality Rate, Males               8109\n",
      "Infant Mortality Rate, Females             8109\n",
      "Age 1-4 Mortality, Both Sexes              8109\n",
      "Age 1-4 Mortality, Males                   8109\n",
      "Age 1-4 Mortality, Females                 8109\n",
      "Under Age 5 Mortality, Both Sexes          8109\n",
      "Under Age 5 Mortality, Males               8109\n",
      "Under Age 5 Mortality, Females             8109\n",
      "Crude Death Rate                           8098\n",
      "Deaths, both sexes                         8098\n",
      "Net Migration Rate                         8098\n",
      "Net international migrants, both sexes     8098\n",
      "dtype: int64\n",
      "16724\n",
      "So approximately half the data is missing\n",
      "Country                                      0\n",
      "Region                                       0\n",
      "GENC                                         0\n",
      "Year                                         0\n",
      "Area in Square Kilometers                    0\n",
      "Population                                   0\n",
      "Male Population                            317\n",
      "Female Population                          317\n",
      "Annual Growth Rate %                       339\n",
      "Rate of Natural Increase                   339\n",
      "Population Density (People per Sq. Km.)      0\n",
      "Dependency ratio                           337\n",
      "Youth dependency ratio                     337\n",
      "Old age dependency ratio                   337\n",
      "Median age, both sexes                     338\n",
      "Median age, females                        338\n",
      "Median age, males                          338\n",
      "Natural Increase                           339\n",
      "Sex ratio of the population                337\n",
      "Total Fertility Rate                       350\n",
      "Age-specific Fertility Rate 15-19          350\n",
      "Age-specific Fertility Rate 20-24          350\n",
      "Age-specific Fertility Rate 25-29          350\n",
      "Age-specific Fertility Rate 30-34          350\n",
      "Age-specific Fertility Rate 35-39          350\n",
      "Age-specific Fertility Rate 40-44          350\n",
      "Age-specific Fertility Rate 45-49          350\n",
      "Crude Birth Rate                           339\n",
      "Gross Reproduction Rate                    350\n",
      "Births, both sexes                         339\n",
      "Sex Ratio at Birth                         350\n",
      "Births to mothers aged 15-19               351\n",
      "Births to mothers aged 20-24               351\n",
      "Births to mothers aged 25-29               351\n",
      "Births to mothers aged 30-34               351\n",
      "Births to mothers aged 35-39               351\n",
      "Births to mothers aged 40-44               351\n",
      "Births to mothers aged 45-49               351\n",
      "Life Expectancy at Birth, Both Sexes       350\n",
      "Life Expectancy at Birth, Males            350\n",
      "Life Expectancy at Birth, Females          350\n",
      "Infant Mortality Rate, Both Sexes          350\n",
      "Infant Mortality Rate, Males               350\n",
      "Infant Mortality Rate, Females             350\n",
      "Age 1-4 Mortality, Both Sexes              350\n",
      "Age 1-4 Mortality, Males                   350\n",
      "Age 1-4 Mortality, Females                 350\n",
      "Under Age 5 Mortality, Both Sexes          350\n",
      "Under Age 5 Mortality, Males               350\n",
      "Under Age 5 Mortality, Females             350\n",
      "Crude Death Rate                           339\n",
      "Deaths, both sexes                         339\n",
      "Net Migration Rate                         339\n",
      "Net international migrants, both sexes     339\n",
      "dtype: int64\n",
      "After 1990 approximately nothing is missing\n"
     ]
    }
   ],
   "source": [
    "#Count the missing values\n",
    "missing_values_per_column = df.isna().sum()\n",
    "\n",
    "print(missing_values_per_column)\n",
    "print(len(df))\n",
    "print(\"So approximately half the data is missing\")\n",
    "\n",
    "missing_values_post1990 = df[df[\"Year\"] >= 1990].isna().sum()\n",
    "print(missing_values_post1990)\n",
    "print(\"After 1990 approximately nothing is missing\")\n"
   ]
  },
  {
   "cell_type": "code",
   "execution_count": 42,
   "id": "31f6c98b",
   "metadata": {},
   "outputs": [],
   "source": [
    "#Save the Dataframe\n",
    "df.to_csv('cleaned_population_data.csv')\n"
   ]
  }
 ],
 "metadata": {
  "kernelspec": {
   "display_name": "Python 3.9.13 ('base')",
   "language": "python",
   "name": "python3"
  },
  "language_info": {
   "codemirror_mode": {
    "name": "ipython",
    "version": 3
   },
   "file_extension": ".py",
   "mimetype": "text/x-python",
   "name": "python",
   "nbconvert_exporter": "python",
   "pygments_lexer": "ipython3",
   "version": "3.9.13"
  },
  "vscode": {
   "interpreter": {
    "hash": "7f48776e5665f0d2c492622e18e322627c450d8bf45ac283a6455c7b388130df"
   }
  }
 },
 "nbformat": 4,
 "nbformat_minor": 5
}
