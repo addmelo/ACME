{
 "cells": [
  {
   "cell_type": "markdown",
   "metadata": {},
   "source": [
    "Our cost functional and state equations are given as follows:\n",
    "\n",
    "$$ J[u] = \\int_{0}^{t_f} (x(t)^2 + \\alpha u(t)^2 + u(t)^{10}) \\, dt$$\n",
    "$$\\dot{x}(t) =  0.5(b-a u(t)) - \\beta x(t), x(0) = x_0 $$\n",
    "\n",
    "- $x(t)$ = Pollution at time $t$\n",
    "- $u(t)$ = Tax at time $t$, expressed as a percentage. $u(t) \\in [0,1]$\n",
    "- $\\alpha$ is a parameter representing how strongly the government wants to keep taxes low.\n",
    "- The $u(t)^{10}$ term is added as a soft restriction. We want $u(t) \\in [0,1]$ (over 100% taxes are infeasible), but imposing hard constraints creates a KKT problem which is difficult to solve. Instead, we add $u(t)^{10}$ to our running cost to discourage values greater than 1; if $|u(t)| > 1$, the cost value will be very large, but if $|u(t)| < 1$, $u(t)^{10}$ will approach 0.\n",
    "- While values of $u(t) < 0$ is technically possible, it is strongly discouraged by the cost functional and state equations. If $u(t) < 0$, $x(t)$ increases quickly, increasing the cost value.\n",
    "\n",
    "With this setup, our Hamiltonian is the following:\n",
    "\n",
    "$$ H = p(t) [0.5(b-a u(t)) - \\beta x(t)] - x(t)^2 - \\alpha u(t)^2 - u(t)^{10} $$\n",
    "\n",
    "Using Pontragyin's Maximum Principle, we can derive the Hamlitonian with respect to u and get the following implicit equation for the optimal $\\tilde{u}$:\n",
    "\n",
    "$$ -a p(t) - 2\\alpha \\tilde{u}(t) -10\\tilde{u}(t)^9 = 0$$\n",
    "\n",
    "This can be solved explicitly using scipy.optimize.root. Our costate $p(t)$ has an endpoint constraint $p(t_f) = 0$ and our state equation has an initial condition $ x(0) = x_0 $.\n",
    "\n",
    "The following graphs show our results for $x_0 = 1$ , $a = 1$, and $b = 2$\n"
   ]
  },
  {
   "cell_type": "markdown",
   "metadata": {},
   "source": [
    "For each choice of parameters, the optimal tax rate $\\tilde{u}$(t) reaches a steady solution, and then dips to 0 when $t_f$ approaches. This is because as we approach the final time, the tax $\\tilde{u}$(t) affects the pollution $x(t)$ less, so there is more leeway in minimizing $x(t)$. Additionally, since"
   ]
  },
  {
   "cell_type": "markdown",
   "metadata": {},
   "source": [
    "- For each choice of parameters, the optimal tax rate $\\tilde{u}$(t) reaches a steady solution, and then dips to 0 when $t_f$ approaches. This is because as we approach the final time, the tax $\\tilde{u}$(t) affects the pollution $x(t)$ less, so there is more leeway in minimizing $x(t)$. Additionally, since $p(t_f) = 0$, $u(t_f) = 0$ is a viable solution.\n",
    "- The optimal tax rate is different for each parameter choice, but all are between 0\\% and 5\\%\n",
    "- The optimal pollution level also achieves a steady solution and with one exception, that steady solution is the same for every parameter choice."
   ]
  },
  {
   "cell_type": "markdown",
   "metadata": {},
   "source": []
  }
 ],
 "metadata": {
  "kernelspec": {
   "display_name": "Python 3",
   "language": "python",
   "name": "python3"
  },
  "language_info": {
   "codemirror_mode": {
    "name": "ipython",
    "version": 3
   },
   "file_extension": ".py",
   "mimetype": "text/x-python",
   "name": "python",
   "nbconvert_exporter": "python",
   "pygments_lexer": "ipython3",
   "version": "3.10.13"
  }
 },
 "nbformat": 4,
 "nbformat_minor": 2
}
