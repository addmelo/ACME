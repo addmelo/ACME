{
 "cells": [
  {
   "cell_type": "code",
   "execution_count": 2,
   "metadata": {},
   "outputs": [],
   "source": [
    "from matplotlib import pyplot as plt\n",
    "import numpy as np\n",
    "from scipy.integrate import solve_bvp\n",
    "from scipy.optimize import root"
   ]
  },
  {
   "cell_type": "markdown",
   "metadata": {},
   "source": [
    "# Problem Set-Up:\n",
    "\n",
    "\n",
    "I used this cost functional:\n",
    "$$ J[\\tau] = \\int_{0}^{t_f} (n(t)^2 + \\alpha \\tau(t)^2 + \\tau^{10}) \\, dt$$\n",
    "\n",
    "- I added the $\\tau^{10}$ in order to heavily penalize values of |$\\tau$| > 1. This is a substitute for the constraint  $ \\tau \\leq 1$\n",
    "- I think $\\tau < 0$ isn't a huge deal. We could interpret that as a subsidy (government gives the company money)\n",
    "- The state evolution equations are the same, but now the optimal u is given by:\n",
    "$$ -p - 2\\alpha \\tau -10\\tau^9 = 0$$\n",
    "- This can be solved explicitly using scipy.optimize.root, but it does have some convergence issues. Nevertheless, the results look okay.\n",
    "- For larger values of alpha and beta, there are some stability problems, but for smaller values, it does okay.\n",
    "- In the graphs, I put an endpoint constraint $n(t_f) = 0$. It made sense to me that by time t_f we want the pollution to be 0. This means n(t) has both an initial and an endpoint constraint, $n(0) = n_0$, and $n(t_f) = 0$.\n",
    "- For some choices of parameters, $\\tau > 1$. I don't think that's too big of a deal because there are some choices of parameters that are infeasible. For example, if the pollution starts really high and $\\beta$ is really low, it will be impossible to tax the company enough to get the pollution levels down to 0. The only way to get that to work would be to have $\\tau$ large."
   ]
  },
  {
   "cell_type": "markdown",
   "metadata": {},
   "source": [
    "Andrew, I made some tiny edits to this general class here. Specifically, I changed u_func to only depend on x (I removed the t). I did this to get scipy.optimize.root to work, but I realize that if u is not autonomous that will change things. That is a problem we can tackle down the road"
   ]
  },
  {
   "cell_type": "markdown",
   "metadata": {},
   "source": [
    "## General class\n",
    "Here we make a class that accepts a function that represents the differential equation in terms of the state and costate.\n",
    "We also pass in a value for the optimal control.\n"
   ]
  },
  {
   "cell_type": "code",
   "execution_count": 3,
   "metadata": {},
   "outputs": [],
   "source": [
    "class Control_Solver_Plotter:\n",
    "    def __init__(self):\n",
    "        self.t = None\n",
    "        self.x = None\n",
    "        self.u = None\n",
    "        self.ode = None\n",
    "        self.u_func = None\n",
    "        self.bc = None\n",
    "\n",
    "    def define_evolution(self,ode,bc):\n",
    "        self.ode = ode\n",
    "        self.bc = bc\n",
    "        return self\n",
    "\n",
    "    def define_control_function(self,u_func):\n",
    "        self.u_func = u_func\n",
    "        return self\n",
    "\n",
    "    def solve_problem(self, t0, tf=None, n_points=100, x_guess=None):\n",
    "        param = False\n",
    "        if tf is None:\n",
    "            tf = 1\n",
    "            param = True\n",
    "        \n",
    "        self.t = np.linspace(t0, tf, n_points + 1)\n",
    "        \n",
    "        # Initialize x_guess if not provided\n",
    "        if x_guess is None:\n",
    "            x_guess = np.ones((2,n_points + 1))\n",
    "        \n",
    "        # Solve the boundary value problem\n",
    "        if param:\n",
    "            param_guess = np.array([1])  # Example parameter guess\n",
    "            sol = solve_bvp(self.ode, self.bc, self.t, x_guess, param_guess)\n",
    "        else:\n",
    "            sol = solve_bvp(self.ode, self.bc, self.t, x_guess)\n",
    "        \n",
    "        # Assign solution to class attributes\n",
    "        self.t = sol.x\n",
    "        self.x = sol.y\n",
    "        self.u = self.u_func(sol.y)\n",
    "        \n",
    "        return self\n",
    "\n",
    "    def plot_solution(self,subplot = None,labels =[\"Pollution\"]):\n",
    "        if subplot is not None:\n",
    "            if type(subplot) is int:\n",
    "                plt.subplot(subplot)\n",
    "            else:\n",
    "                plt.subplot(*subplot)\n",
    "        for i,label in enumerate(labels):\n",
    "            plt.plot(self.t,self.x[i],'k',label = label)\n",
    "        plt.plot(self.t,self.u,'g',label = \"Tax\")\n",
    "\n",
    "        plt.legend()"
   ]
  },
  {
   "cell_type": "code",
   "execution_count": 16,
   "metadata": {},
   "outputs": [
    {
     "data": {
      "image/png": "[encoded data removed]",
      "text/plain": [
       "<Figure size 640x480 with 1 Axes>"
      ]
     },
     "metadata": {},
     "output_type": "display_data"
    }
   ],
   "source": [
    "alpha = 2\n",
    "beta = 1.5\n",
    "n0 = .8\n",
    "nf = .5\n",
    "t0 = 0\n",
    "tf = 10\n",
    "\n",
    "def u_func(x):\n",
    "    def implicitFormula(u):\n",
    "        return -x[1] - 2*alpha*u - 10*(u**9) # You could make the coefficient on this arbitrarily large\n",
    "    return root(implicitFormula, x0=np.ones_like(x[1])*0.1).x # This has some convergence issues\n",
    "\n",
    "\"\"\"\n",
    "def u_func(x):\n",
    "    return 1 + ((1/(2*alpha))*x[1])**3\n",
    "\"\"\"\n",
    "def ode(t,x):\n",
    "    return np.array([\n",
    "        1 - u_func(x[1]) - beta*x[0],\n",
    "        2*x[0] + beta*x[1]\n",
    "        ])\n",
    "def bc(ya,yb):\n",
    "    return np.array([ya[0]-n0, yb[0]-nf])\n",
    "\n",
    "plotter = Control_Solver_Plotter().define_control_function(u_func).define_evolution(ode,bc)\n",
    "plotter.solve_problem(t0,tf)\n",
    "plotter.plot_solution()"
   ]
  },
  {
   "cell_type": "markdown",
   "metadata": {},
   "source": [
    "There is still quite a bit of variation in what the graph looks like, depending on the parameters you put in. And sometimes there are some stability problems, but it's looking a little better."
   ]
  },
  {
   "cell_type": "markdown",
   "metadata": {},
   "source": []
  }
 ],
 "metadata": {
  "kernelspec": {
   "display_name": "Python 3",
   "language": "python",
   "name": "python3"
  },
  "language_info": {
   "codemirror_mode": {
    "name": "ipython",
    "version": 3
   },
   "file_extension": ".py",
   "mimetype": "text/x-python",
   "name": "python",
   "nbconvert_exporter": "python",
   "pygments_lexer": "ipython3",
   "version": "3.10.13"
  }
 },
 "nbformat": 4,
 "nbformat_minor": 2
}
