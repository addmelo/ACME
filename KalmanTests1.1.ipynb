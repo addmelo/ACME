{
 "cells": [
  {
   "cell_type": "code",
   "execution_count": 21,
   "metadata": {},
   "outputs": [],
   "source": [
    "import numpy as np\n",
    "from filterpy.kalman import KalmanFilter\n",
    "import pandas as pd\n",
    "import matplotlib.pyplot as plt\n",
    "from scipy.optimize import minimize\n",
    "import scipy.stats as sa\n",
    "import scipy.linalg as la"
   ]
  },
  {
   "cell_type": "code",
   "execution_count": 60,
   "metadata": {},
   "outputs": [],
   "source": [
    "class OurKalmanFilter:\n",
    "    def __init__(self, df, y, var1=\"Diff Log Dependency\", var2=\"Diff Log Inv\", yearSplit=2000, dim_x=1, dim_z = 1):\n",
    "        self.yearSplit = yearSplit\n",
    "        self.dim_x = dim_x\n",
    "        self.dim_z = dim_z\n",
    "        self.df = df.copy()\n",
    "        self.y = y\n",
    "        self._formatData(var1, var2)\n",
    "        self.var1 = var1\n",
    "        self.var2 = var2\n",
    "\n",
    "    def _formatData(self, var1=\"Diff Log Dependency\", var2=\"Diff Log Inv\"):\n",
    "        self.df[\"Log GDP\"] = np.log(self.df[\"GDP\"])\n",
    "        self.df['Diff Log GDP'] = self.df['Log GDP'] - self.df['Log GDP'].shift(1)\n",
    "        self.df[\"Log Inv\"] = np.log(self.df[\"Inv\"])\n",
    "        self.df[\"Diff Log Inv\"] = self.df[\"Log Inv\"] - self.df[\"Log Inv\"].shift(1)\n",
    "        self.df[\"Log Dependency\"] = np.log(self.df[\"Dependency\"])\n",
    "        for i in range(1,4):\n",
    "            self.df[\"Log Dependency\"]+= np.log(self.df[\"Dependency\"].shift(i))\n",
    "        self.df[\"Log Dependency\"] /= 4\n",
    "\n",
    "        self.df[\"Diff Log Dependency\"] = self.df[\"Log Dependency\"] - self.df[\"Log Dependency\"].shift(4)\n",
    "\n",
    "        deflator = pd.read_csv(\"Cleaned Datasets/GDPDEF.csv\",index_col = \"DATE\")\n",
    "        self.df = self.df.join(deflator,on = \"DATE\", how = \"inner\")\n",
    "        self.df[\"Real GDP\"] = self.df[\"GDP\"]/self.df[\"GDPDEF\"]\n",
    "        self.df[\"Real Inv\"] = self.df[\"Inv\"]/self.df[\"GDPDEF\"]\n",
    "\n",
    "        self.df.set_index(\"DATE\", drop=True, inplace=True)\n",
    "        self.df.dropna(inplace=True)\n",
    "\n",
    "        if self.dim_x == 1:\n",
    "            self.df = self.df[[self.y]]\n",
    "        elif self.dim_x == 3:\n",
    "            self.df = self.df[[self.y, var1, var2]]\n",
    "\n",
    "        # Split the data into train and test\n",
    "        self.trainingData = self.df[self.df.index <= str(self.yearSplit)]\n",
    "        self.testingData = self.df[self.df.index > str(self.yearSplit)]\n",
    "        return None\n",
    "    \n",
    "    def train(self, F, H):\n",
    "        # Set initial parameters\n",
    "        self.zMatrix = self.trainingData[self.y].to_numpy()\n",
    "        self.Q = np.eye(self.dim_x)\n",
    "        self.R = np.eye(self.dim_z)\n",
    "        self.H = H\n",
    "        df_ = self.df.to_numpy()\n",
    "        self.x0 = df_[0]\n",
    "        X = F.ravel()\n",
    "      \n",
    "        X = minimize(self._likelihood, X, method=\"bfgs\", tol=1e-8).x\n",
    "        \n",
    "        dimF = self.dim_x**2\n",
    "        self.F = X.reshape(self.dim_x, self.dim_x)\n",
    "\n",
    "        print(f\"F: {self.F}\")\n",
    "        print(f\"H: {self.H}\")\n",
    "\n",
    "        return None\n",
    "\n",
    "    def _likelihood(self, X):\n",
    "        # Unpack the values\n",
    "        F = X.reshape(self.dim_x, self.dim_x)\n",
    "        \n",
    "        # Initialize appropriate parameters\n",
    "        xhat = self.x0.copy()\n",
    "        Phat = np.eye(self.dim_x)*100\n",
    "        logLikelis = []\n",
    "        # Calculate the log-likelihood for each point.\n",
    "        for i in range(self.zMatrix.shape[0]):\n",
    "            \n",
    "            # Predict the x value\n",
    "            xhat = F@xhat\n",
    "            \n",
    "            # Predict the P value\n",
    "            Phat = F@Phat@(F.T) + self.Q\n",
    "            mean = self.H@xhat\n",
    "            cov = self.H@Phat@(self.H.T) +self.R\n",
    "            likelihood = np.log(sa.multivariate_normal.pdf(self.zMatrix[i], mean=mean, cov=cov, allow_singular=True))\n",
    "            logLikelis.append(likelihood)\n",
    "\n",
    "        return -1*np.sum(logLikelis)\n",
    "    \n",
    "\n",
    "    def fit_predict(self, stepsForward):\n",
    "        f = KalmanFilter(dim_x=self.dim_x, dim_z=self.dim_z)\n",
    "        f.x = self.x0.copy().reshape(-1,1)\n",
    "        f.F = self.F.copy()\n",
    "        f.H = self.H.copy()\n",
    "        f.Q = self.Q.copy()\n",
    "        f.R = self.R.copy()\n",
    "\n",
    "        self.xhat, Ps, self.z = self._predict(f, self.zMatrix, stepsForward)\n",
    "        return None\n",
    "    \n",
    "    def _filter(self, f, zs):\n",
    "        n = np.size(zs,0)\n",
    "        # initialize\n",
    "        xhat = np.zeros((n,f.dim_x,1))\n",
    "        Ps = np.zeros((n,f.dim_x,f.dim_x))\n",
    "        z_filtered = np.zeros((n,f.dim_z))\n",
    "    \n",
    "        for i,z in enumerate(zs):\n",
    "\n",
    "            f.predict()\n",
    "            f.update(z)\n",
    "            xhat[i] = f.x.copy()\n",
    "            Ps[i] = f.P.copy()\n",
    "            z_filtered[i] = (f.H)@(xhat[i].reshape(f.dim_x,))\n",
    "            \n",
    "        return xhat, Ps, z_filtered\n",
    "\n",
    "    def _predict(self, f, zs, stepsForward):\n",
    "        xhat, Ps, z_filtered = self._filter(f, zs)\n",
    "        xhat_predict = np.zeros((stepsForward, f.dim_x, 1))\n",
    "        Ps_predict = np.zeros((stepsForward, f.dim_x, f.dim_x))\n",
    "        z_predicts = np.zeros((stepsForward, f.dim_z))\n",
    "\n",
    "        for i in range(stepsForward):\n",
    "            f.predict()\n",
    "            xhat_predict[i] = f.x.copy()\n",
    "            #Ps[i] = f.P.copy()\n",
    "            z_predicts[i] = (f.H)@(xhat_predict[i].reshape(f.dim_x,))\n",
    "        \n",
    "        # TODO: We could also alter the function so that it saves the filtered and predicts separately\n",
    "        return np.vstack((xhat, xhat_predict)), 0, np.vstack((z_filtered, z_predicts))\n",
    "    \n",
    "    def plotResults(self):\n",
    "        # Plot the results\n",
    "        fig, axs = plt.subplots(1,self.dim_z,figsize=(10,5))\n",
    "        self.df.index = pd.to_datetime(self.df.index).to_period(freq=\"D\")\n",
    "        self.trainingData.index = pd.to_datetime(self.trainingData.index).to_period(freq=\"D\")\n",
    "        self.testingData.index = pd.to_datetime(self.testingData.index).to_period(freq=\"D\")\n",
    "\n",
    "        if self.dim_z == 1:\n",
    "            self.trainingData.plot(y=self.y, ax=axs, label=\"Training Data\", use_index=True, color=\"green\")\n",
    "            self.testingData.plot(y=self.y, ax=axs, label=\"Testing Data\", use_index=True, color=\"red\")\n",
    "            domain = pd.date_range(start=self.df.index[0].to_timestamp(), periods=self.z.size, freq=\"QS\")\n",
    "            axs.plot(domain, self.z, 'b--', label='Filter Estimates')\n",
    "\n",
    "            # Manually set x-axis tick marks and labels for every 10 years\n",
    "            start_date = pd.Timestamp(self.df.index.min().year, 1, 1).to_period(freq=\"D\")\n",
    "            end_date = pd.Timestamp(self.df.index.max().year, 1, 1).to_period(freq=\"D\")\n",
    "            tick_positions = pd.date_range(start=start_date.to_timestamp(), end=domain[-1], freq='10AS')\n",
    "            tick_labels = [tick.strftime('%Y') for tick in tick_positions]\n",
    "            axs.set_xticks(tick_positions, tick_labels)\n",
    "            axs.set_title(self.y)\n",
    "            axs.legend()\n",
    "            axs.set_ylim([0,300])\n",
    "            \n",
    "        elif self.dim_z == 3:\n",
    "\n",
    "            self.df[[self.y]].plot(ax=axs[0], label=\"Original Data\", markersize=2, linestyle='-', color=\"b\")\n",
    "            axs[0].plot()\n",
    "            axs[0].plot(self.df.index, self.z_predicts[1:-1], 'g--', label='filter estimates')\n",
    "            axs[0].set_title(self.y)\n",
    "            axs[0].legend()\n",
    "\n",
    "            self.df[[self.var1]].plot(ax=axs[1], label=\"Original Data\", markersize=2, linestyle='-', color=\"b\")\n",
    "            axs[1].plot(self.df.index, self.z_predicts[:,1], label='filter estimates', color=\"r\")\n",
    "            axs[1].set_title(self.var1)\n",
    "            axs[1].legend()\n",
    "\n",
    "            self.df[[self.var2]].plot(ax=axs[2], color='b', marker='o', label=\"Original Data\", markersize=2, linestyle='none')\n",
    "            axs[2].plot(self.df.index, self.z_predicts[:,2], label='Filter Estimates', color=\"r\")\n",
    "            axs[2].set_title(self.var2)\n",
    "            axs[2].legend()\n",
    "        plt.grid()\n",
    "        #plt.tight_layout()\n",
    "        plt.savefig(\"V3_Kalman1d.png\", dpi=300)\n"
   ]
  },
  {
   "cell_type": "code",
   "execution_count": 61,
   "metadata": {},
   "outputs": [
    {
     "name": "stderr",
     "output_type": "stream",
     "text": [
      "/var/folders/vj/8t2xdhb577n2gr_0n_gppv480000gn/T/ipykernel_11121/3481424587.py:80: RuntimeWarning: divide by zero encountered in log\n",
      "  likelihood = np.log(sa.multivariate_normal.pdf(self.zMatrix[i], mean=mean, cov=cov, allow_singular=True))\n",
      "/usr/local/lib/python3.10/site-packages/scipy/optimize/_numdiff.py:576: RuntimeWarning: invalid value encountered in subtract\n",
      "  df = fun(x) - f0\n",
      "/var/folders/vj/8t2xdhb577n2gr_0n_gppv480000gn/T/ipykernel_11121/3481424587.py:80: RuntimeWarning: divide by zero encountered in log\n",
      "  likelihood = np.log(sa.multivariate_normal.pdf(self.zMatrix[i], mean=mean, cov=cov, allow_singular=True))\n"
     ]
    },
    {
     "name": "stdout",
     "output_type": "stream",
     "text": [
      "F: [[1.00787882]]\n",
      "H: [[1]]\n"
     ]
    },
    {
     "data": {
      "image/png": "[encoded data removed]",
      "text/plain": [
       "<Figure size 1000x500 with 1 Axes>"
      ]
     },
     "metadata": {},
     "output_type": "display_data"
    }
   ],
   "source": [
    "df = pd.read_csv(\"Cleaned Datasets/US_Full_Quarterly.csv\")\n",
    "test1d = OurKalmanFilter(df, \"Real GDP\", yearSplit='2000', var1='Dependency', var2=\"Inv\", dim_x=1, dim_z=1)\n",
    "GDPGrowthRate = (test1d.trainingData['Real GDP'] - test1d.trainingData['Real GDP'].shift(1)) / test1d.trainingData['Real GDP']\n",
    "avg_growth_rate = np.mean(GDPGrowthRate)\n",
    "#F = np.array([[1 + avg_growth_rate]])  # Influence of past values on consumption expenditure\n",
    "F = np.array([[1.02]])  # Influence of past values on consumption expenditure\n",
    "\n",
    "# Measurement matrix H\n",
    "H = np.array([[1]])  # We observe the total GDP, which is the sum of the three components\n",
    "test1d.train(F, H)\n",
    "test1d.fit_predict(stepsForward=88)\n",
    "test1d.plotResults()"
   ]
  },
  {
   "cell_type": "markdown",
   "metadata": {},
   "source": [
    "Clearly, the model doesn't generalize well to multiple dimensions"
   ]
  },
  {
   "cell_type": "code",
   "execution_count": 30,
   "metadata": {},
   "outputs": [
    {
     "data": {
      "text/plain": [
       "0.007731886615126824"
      ]
     },
     "execution_count": 30,
     "metadata": {},
     "output_type": "execute_result"
    }
   ],
   "source": [
    "test1d.trainingData['Real GDP']\n",
    "\n",
    "GDPGrowthRate = (test1d.trainingData['Real GDP'] - test1d.trainingData['Real GDP'].shift(1)) / test1d.trainingData['Real GDP']\n",
    "np.mean(GDPGrowthRate)"
   ]
  },
  {
   "cell_type": "code",
   "execution_count": null,
   "metadata": {},
   "outputs": [],
   "source": []
  }
 ],
 "metadata": {
  "kernelspec": {
   "display_name": "Python 3.9.13 ('base')",
   "language": "python",
   "name": "python3"
  },
  "language_info": {
   "codemirror_mode": {
    "name": "ipython",
    "version": 3
   },
   "file_extension": ".py",
   "mimetype": "text/x-python",
   "name": "python",
   "nbconvert_exporter": "python",
   "pygments_lexer": "ipython3",
   "version": "3.10.13"
  },
  "vscode": {
   "interpreter": {
    "hash": "7f48776e5665f0d2c492622e18e322627c450d8bf45ac283a6455c7b388130df"
   }
  }
 },
 "nbformat": 4,
 "nbformat_minor": 2
}
