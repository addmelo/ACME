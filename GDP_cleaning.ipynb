{
 "cells": [
  {
   "cell_type": "code",
   "execution_count": 14,
   "metadata": {},
   "outputs": [],
   "source": [
    "import numpy as np\n",
    "import pandas as pd\n",
    "from matplotlib import pyplot as plt"
   ]
  },
  {
   "cell_type": "code",
   "execution_count": 12,
   "metadata": {},
   "outputs": [
    {
     "data": {
      "text/html": [
       "<div>\n",
       "<style scoped>\n",
       "    .dataframe tbody tr th:only-of-type {\n",
       "        vertical-align: middle;\n",
       "    }\n",
       "\n",
       "    .dataframe tbody tr th {\n",
       "        vertical-align: top;\n",
       "    }\n",
       "\n",
       "    .dataframe thead th {\n",
       "        text-align: right;\n",
       "    }\n",
       "</style>\n",
       "<table border=\"1\" class=\"dataframe\">\n",
       "  <thead>\n",
       "    <tr style=\"text-align: right;\">\n",
       "      <th></th>\n",
       "      <th>Country</th>\n",
       "      <th>Code</th>\n",
       "      <th>Year</th>\n",
       "      <th>GDP</th>\n",
       "    </tr>\n",
       "  </thead>\n",
       "  <tbody>\n",
       "    <tr>\n",
       "      <th>0</th>\n",
       "      <td>ARUBA</td>\n",
       "      <td>ABW</td>\n",
       "      <td>1960</td>\n",
       "      <td>NaN</td>\n",
       "    </tr>\n",
       "    <tr>\n",
       "      <th>1</th>\n",
       "      <td>AFRICA EASTERN AND SOUTHERN</td>\n",
       "      <td>AFE</td>\n",
       "      <td>1960</td>\n",
       "      <td>1.847810e+10</td>\n",
       "    </tr>\n",
       "    <tr>\n",
       "      <th>2</th>\n",
       "      <td>AFGHANISTAN</td>\n",
       "      <td>AFG</td>\n",
       "      <td>1960</td>\n",
       "      <td>5.377778e+08</td>\n",
       "    </tr>\n",
       "    <tr>\n",
       "      <th>3</th>\n",
       "      <td>AFRICA WESTERN AND CENTRAL</td>\n",
       "      <td>AFW</td>\n",
       "      <td>1960</td>\n",
       "      <td>1.041165e+10</td>\n",
       "    </tr>\n",
       "    <tr>\n",
       "      <th>4</th>\n",
       "      <td>ANGOLA</td>\n",
       "      <td>AGO</td>\n",
       "      <td>1960</td>\n",
       "      <td>NaN</td>\n",
       "    </tr>\n",
       "    <tr>\n",
       "      <th>5</th>\n",
       "      <td>ALBANIA</td>\n",
       "      <td>ALB</td>\n",
       "      <td>1960</td>\n",
       "      <td>NaN</td>\n",
       "    </tr>\n",
       "    <tr>\n",
       "      <th>6</th>\n",
       "      <td>ANDORRA</td>\n",
       "      <td>AND</td>\n",
       "      <td>1960</td>\n",
       "      <td>NaN</td>\n",
       "    </tr>\n",
       "    <tr>\n",
       "      <th>7</th>\n",
       "      <td>ARAB WORLD</td>\n",
       "      <td>ARB</td>\n",
       "      <td>1960</td>\n",
       "      <td>NaN</td>\n",
       "    </tr>\n",
       "    <tr>\n",
       "      <th>8</th>\n",
       "      <td>UNITED ARAB EMIRATES</td>\n",
       "      <td>ARE</td>\n",
       "      <td>1960</td>\n",
       "      <td>NaN</td>\n",
       "    </tr>\n",
       "    <tr>\n",
       "      <th>9</th>\n",
       "      <td>ARGENTINA</td>\n",
       "      <td>ARG</td>\n",
       "      <td>1960</td>\n",
       "      <td>NaN</td>\n",
       "    </tr>\n",
       "  </tbody>\n",
       "</table>\n",
       "</div>"
      ],
      "text/plain": [
       "                       Country Code  Year           GDP\n",
       "0                        ARUBA  ABW  1960           NaN\n",
       "1  AFRICA EASTERN AND SOUTHERN  AFE  1960  1.847810e+10\n",
       "2                  AFGHANISTAN  AFG  1960  5.377778e+08\n",
       "3   AFRICA WESTERN AND CENTRAL  AFW  1960  1.041165e+10\n",
       "4                       ANGOLA  AGO  1960           NaN\n",
       "5                      ALBANIA  ALB  1960           NaN\n",
       "6                      ANDORRA  AND  1960           NaN\n",
       "7                   ARAB WORLD  ARB  1960           NaN\n",
       "8         UNITED ARAB EMIRATES  ARE  1960           NaN\n",
       "9                    ARGENTINA  ARG  1960           NaN"
      ]
     },
     "execution_count": 12,
     "metadata": {},
     "output_type": "execute_result"
    }
   ],
   "source": [
    "data = pd.read_csv(\"API_NY.GDP.MKTP.CD_DS2_en_csv_v2_2.csv\",skiprows=3)\n",
    "data.drop(columns = [\"Indicator Name\",\"Indicator Code\",\"Unnamed: 67\"],inplace=True)\n",
    "data.rename(columns={\"Country Name\": \"Country\",\"Country Code\": \"Code\"},inplace=True)\n",
    "data[\"Country\"] = data[\"Country\"].str.upper()\n",
    "# Rotate columns\n",
    "data = pd.melt(data,id_vars = [\"Country\",\"Code\"],value_vars = [str(i) for i in range(1960,2023)])\n",
    "data[\"variable\"] = data[\"variable\"].astype(np.int32)\n",
    "data.rename(columns={\"variable\":\"Year\",\"value\":\"GDP\"},inplace=True)\n",
    "\n",
    "data.head(10)"
   ]
  },
  {
   "cell_type": "code",
   "execution_count": 6,
   "metadata": {},
   "outputs": [],
   "source": [
    "data.to_csv(\"World_GDP_cleaned.csv\",index = False)"
   ]
  },
  {
   "cell_type": "code",
   "execution_count": 21,
   "metadata": {},
   "outputs": [
    {
     "data": {
      "image/png": "[encoded data removed]",
      "text/plain": [
       "<Figure size 432x288 with 1 Axes>"
      ]
     },
     "metadata": {
      "needs_background": "light"
     },
     "output_type": "display_data"
    }
   ],
   "source": [
    "plt.plot(data.groupby(\"Year\")[\"GDP\"].count())\n",
    "plt.title(\"Number of countries with recorded GDP data\")\n",
    "plt.show()"
   ]
  }
 ],
 "metadata": {
  "kernelspec": {
   "display_name": "Python 3",
   "language": "python",
   "name": "python3"
  },
  "language_info": {
   "codemirror_mode": {
    "name": "ipython",
    "version": 3
   },
   "file_extension": ".py",
   "mimetype": "text/x-python",
   "name": "python",
   "nbconvert_exporter": "python",
   "pygments_lexer": "ipython3",
   "version": "3.10.12"
  }
 },
 "nbformat": 4,
 "nbformat_minor": 2
}
