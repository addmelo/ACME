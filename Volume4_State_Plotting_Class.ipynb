{
 "cells": [
  {
   "cell_type": "code",
   "execution_count": 5,
   "metadata": {},
   "outputs": [],
   "source": [
    "from matplotlib import pyplot as plt\n",
    "import numpy as np\n",
    "from scipy.integrate import solve_bvp"
   ]
  },
  {
   "cell_type": "markdown",
   "metadata": {},
   "source": [
    "## General class\n",
    "Here we make a class that accepts a function that represents the differential equation in terms of the state and costate.\n",
    "We also pass in a value for the optimal control.\n"
   ]
  },
  {
   "cell_type": "code",
   "execution_count": 32,
   "metadata": {},
   "outputs": [],
   "source": [
    "class Control_Solver_Plotter:\n",
    "    def __init__(self):\n",
    "        self.t = None\n",
    "        self.x = None\n",
    "        self.u = None\n",
    "        self.ode = None\n",
    "        self.u_func = None\n",
    "        self.bc = None\n",
    "\n",
    "    def define_evolution(self,ode,bc):\n",
    "        self.ode = ode\n",
    "        self.bc = bc\n",
    "        return self\n",
    "\n",
    "    def define_control_function(self,u_func):\n",
    "        self.u_func = u_func\n",
    "        return self\n",
    "\n",
    "    def solve_problem(self, t0, tf=None, n_points=100, x_guess=None):\n",
    "        param = False\n",
    "        if tf is None:\n",
    "            tf = 1\n",
    "            param = True\n",
    "        \n",
    "        self.t = np.linspace(t0, tf, n_points + 1)\n",
    "        \n",
    "        # Initialize x_guess if not provided\n",
    "        if x_guess is None:\n",
    "            x_guess = np.ones((2,n_points + 1))\n",
    "        \n",
    "        # Solve the boundary value problem\n",
    "        if param:\n",
    "            param_guess = np.array([1])  # Example parameter guess\n",
    "            sol = solve_bvp(self.ode, self.bc, self.t, x_guess, param_guess)\n",
    "        else:\n",
    "            sol = solve_bvp(self.ode, self.bc, self.t, x_guess)\n",
    "        \n",
    "        # Assign solution to class attributes\n",
    "        self.t = sol.x\n",
    "        self.x = sol.y\n",
    "        self.u = self.u_func(self.t,sol.y)\n",
    "        \n",
    "        return self\n",
    "\n",
    "\n",
    "    def plot_solution(self,subplot = None,labels =[\"Polution\"]):\n",
    "        if subplot is not None:\n",
    "            if type(subplot) is int:\n",
    "                plt.subplot(subplot)\n",
    "            else:\n",
    "                plt.subplot(*subplot)\n",
    "        for i,label in enumerate(labels):\n",
    "            plt.plot(self.t,self.x[i],'k',label = label)\n",
    "        plt.plot(self.t,self.u,'g',label = \"Tax\")\n",
    "\n",
    "        plt.legend()"
   ]
  },
  {
   "cell_type": "code",
   "execution_count": 43,
   "metadata": {},
   "outputs": [
    {
     "data": {
      "image/png": "[encoded data removed]",
      "text/plain": [
       "<Figure size 432x288 with 1 Axes>"
      ]
     },
     "metadata": {
      "needs_background": "light"
     },
     "output_type": "display_data"
    }
   ],
   "source": [
    "alpha = 1\n",
    "beta = .1\n",
    "n0 = .8\n",
    "t0 = 0\n",
    "tf = 10\n",
    "\n",
    "def u_func(t,x):\n",
    "    return -0.5/alpha*x[1]\n",
    "def ode(t,x):\n",
    "    return np.array([2 - u_func(t,x[1]) - beta*x[0],2*x[0]+beta * x[1]])\n",
    "def bc(ya,yb):\n",
    "    return np.array([ya[0]-n0,yb[1]])\n",
    "\n",
    "plotter = Control_Solver_Plotter().define_control_function(u_func).define_evolution(ode,bc)\n",
    "\n",
    "plotter.solve_problem(t0,tf)\n",
    "\n",
    "\n",
    "plotter.plot_solution()\n",
    "\n"
   ]
  }
 ],
 "metadata": {
  "kernelspec": {
   "display_name": "Python 3",
   "language": "python",
   "name": "python3"
  },
  "language_info": {
   "codemirror_mode": {
    "name": "ipython",
    "version": 3
   },
   "file_extension": ".py",
   "mimetype": "text/x-python",
   "name": "python",
   "nbconvert_exporter": "python",
   "pygments_lexer": "ipython3",
   "version": "3.10.12"
  }
 },
 "nbformat": 4,
 "nbformat_minor": 2
}
